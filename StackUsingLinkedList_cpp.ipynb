{
 "cells": [
  {
   "cell_type": "markdown",
   "metadata": {},
   "source": [
    "# StackUsingLinkedList\n",
    "[**ctrl + Click here**](https://mybinder.org/v2/gh/abhiyantaabhishek/algorithm/master?filepath=StackUsingLinkedList_cpp.ipynb) to run this code live in the Jupyetr Notebook. _Please don't click if you are already there in the Jupyter Notebook as it will create a new kernel._"
   ]
  },
  {
   "cell_type": "code",
   "execution_count": 1,
   "metadata": {},
   "outputs": [],
   "source": [
    "#include <iostream>\n",
    "#include <assert.h> \n",
    "using namespace std;"
   ]
  },
  {
   "cell_type": "code",
   "execution_count": 2,
   "metadata": {},
   "outputs": [],
   "source": [
    "struct node\n",
    "{\n",
    "    int data;\n",
    "    struct node *next;\n",
    "};"
   ]
  },
  {
   "cell_type": "code",
   "execution_count": 3,
   "metadata": {},
   "outputs": [],
   "source": [
    "void Push(struct node ** TOP, int data)\n",
    "{\n",
    "    struct node * temp = new node;\n",
    "    temp->data = data;\n",
    "    temp->next = *TOP;\n",
    "    *TOP = temp;\n",
    "    cout<<\"pushed :\"<<(*TOP)->data<<endl;\n",
    "}"
   ]
  },
  {
   "cell_type": "code",
   "execution_count": 4,
   "metadata": {},
   "outputs": [],
   "source": [
    "int pop (struct node ** TOP)\n",
    "{\n",
    "    int ret = -1;\n",
    "    assert(*TOP != NULL);\n",
    "\n",
    "    struct node * temp = *TOP;\n",
    "    ret = temp->data;\n",
    "    *TOP=(*TOP)->next;\n",
    "    delete temp;        \n",
    "\n",
    "    cout<<\"popped :\"<<ret<<endl;\n",
    "    return ret;\n",
    "}"
   ]
  },
  {
   "cell_type": "code",
   "execution_count": 5,
   "metadata": {},
   "outputs": [],
   "source": [
    "int isEmpty(struct node * TOP)\n",
    "{\n",
    " return TOP == NULL;\n",
    "}"
   ]
  },
  {
   "cell_type": "code",
   "execution_count": 6,
   "metadata": {},
   "outputs": [],
   "source": [
    "void show(struct node * TOP)\n",
    "{ \n",
    "    struct node * temp = TOP;\n",
    "    while(!isEmpty(temp))\n",
    "    {\n",
    "        cout<<temp->data<<\" \";\n",
    "        temp = temp->next;\n",
    "    }\n",
    "}"
   ]
  },
  {
   "cell_type": "code",
   "execution_count": 7,
   "metadata": {},
   "outputs": [],
   "source": [
    "int __main ()\n",
    "{\n",
    "struct node * stack = NULL;\n",
    "cout<<\"isEmpty(stack): \"<<isEmpty(stack)<<endl;\n",
    "Push(&stack,1);\n",
    "Push(&stack,2);\n",
    "Push(&stack,3);\n",
    "Push(&stack,4);\n",
    "Push(&stack,5);\n",
    "cout<<\"Stack Content After Pushing :\"<<endl;\n",
    "show(stack);\n",
    "cout<<endl<<\"isEmpty(stack): \"<<isEmpty(stack)<<endl;\n",
    "pop(&stack);\n",
    "pop(&stack);\n",
    "pop(&stack);\n",
    "cout<<\"Stack Content After Popping :\"<<endl;\n",
    "show(stack);\n",
    "return 0;\n",
    "}"
   ]
  },
  {
   "cell_type": "code",
   "execution_count": 8,
   "metadata": {},
   "outputs": [
    {
     "name": "stdout",
     "output_type": "stream",
     "text": [
      "isEmpty(stack): 1\n",
      "pushed :1\n",
      "pushed :2\n",
      "pushed :3\n",
      "pushed :4\n",
      "pushed :5\n",
      "Stack Content After Pushing :\n",
      "5 4 3 2 1 \n",
      "isEmpty(stack): 0\n",
      "popped :5\n",
      "popped :4\n",
      "popped :3\n",
      "Stack Content After Popping :\n",
      "2 1 "
     ]
    }
   ],
   "source": [
    "__main ();"
   ]
  }
 ],
 "metadata": {
  "kernelspec": {
   "display_name": "C++14",
   "language": "C++14",
   "name": "xcpp14"
  },
  "language_info": {
   "codemirror_mode": "text/x-c++src",
   "file_extension": ".cpp",
   "mimetype": "text/x-c++src",
   "name": "c++",
   "version": "14"
  }
 },
 "nbformat": 4,
 "nbformat_minor": 4
}
