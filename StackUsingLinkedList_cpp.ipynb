{
 "cells": [
  {
   "cell_type": "markdown",
   "metadata": {},
   "source": [
    "# StackUsingLinkedList\n",
    "[**ctrl + Click here**](https://mybinder.org/v2/gh/abhiyantaabhishek/algorithm/master?filepath=StackUsingLinkedList_cpp.ipynb) to run this code live in the Jupyetr Notebook. _Please don't click if you are already there in the Jupyter Notebook as it will create a new kernel._"
   ]
  },
  {
   "cell_type": "code",
   "execution_count": 1,
   "metadata": {},
   "outputs": [],
   "source": [
    "#include <iostream>\n",
    "#include <assert.h> \n",
    "using namespace std;"
   ]
  },
  {
   "cell_type": "code",
   "execution_count": 2,
   "metadata": {},
   "outputs": [],
   "source": [
    "template <class T>\n",
    "struct node\n",
    "{\n",
    "    T data;\n",
    "    struct node *next;\n",
    "};"
   ]
  },
  {
   "cell_type": "code",
   "execution_count": 3,
   "metadata": {},
   "outputs": [],
   "source": [
    "template<class T>\n",
    "class Stack\n",
    "{\n",
    "public:\n",
    "    struct node<T> * TOP = NULL;\n",
    "};"
   ]
  },
  {
   "cell_type": "code",
   "execution_count": 4,
   "metadata": {},
   "outputs": [],
   "source": [
    "template <class T>\n",
    "void Push(Stack<T> &stack, int data)\n",
    "{\n",
    "    struct node<T> * temp = new node<T>;\n",
    "    temp->data = data;\n",
    "    temp->next = stack.TOP;\n",
    "    stack.TOP = temp;\n",
    "    //cout << \"pushed :\" << stack.TOP->data << endl;\n",
    "}"
   ]
  },
  {
   "cell_type": "code",
   "execution_count": 5,
   "metadata": {},
   "outputs": [],
   "source": [
    "template <class T>\n",
    "int pop(Stack<T> &stack)\n",
    "{\n",
    "    \n",
    "    assert(stack.TOP != NULL);\n",
    "\n",
    "    struct node<T> * temp = stack.TOP;\n",
    "    int ret = temp->data;\n",
    "    stack.TOP = stack.TOP->next;\n",
    "    delete temp;\n",
    "\n",
    "    //cout << \"popped :\" << ret << endl;\n",
    "    return ret;\n",
    "}"
   ]
  },
  {
   "cell_type": "code",
   "execution_count": 6,
   "metadata": {},
   "outputs": [],
   "source": [
    "template <class T>\n",
    "int isEmpty(Stack<T> &stack)\n",
    "{\n",
    "    return stack.TOP == NULL;\n",
    "}"
   ]
  },
  {
   "cell_type": "code",
   "execution_count": 7,
   "metadata": {},
   "outputs": [],
   "source": [
    "template <class T>\n",
    "void show(Stack<T> &stack)\n",
    "{\n",
    "    struct node<T> * temp = stack.TOP;\n",
    "    while (temp!=NULL)\n",
    "    {\n",
    "        cout << temp->data << \" \";\n",
    "        temp = temp->next;\n",
    "    }\n",
    "}\n"
   ]
  },
  {
   "cell_type": "code",
   "execution_count": 8,
   "metadata": {},
   "outputs": [],
   "source": [
    "int __main ()\n",
    "{\n",
    "    Stack<int> stack ;\n",
    "    cout << \"isEmpty(stack): \" << isEmpty(stack) << endl;\n",
    "    Push<int>(stack, 1);\n",
    "    Push(stack, 2);\n",
    "    Push(stack, 3);\n",
    "    Push(stack, 4);\n",
    "    Push(stack, 5);\n",
    "    cout << \"Stack Content After Pushing :\" << endl;\n",
    "    show(stack);\n",
    "    cout << endl << \"isEmpty(stack): \" << isEmpty(stack) << endl;\n",
    "    pop(stack);\n",
    "    pop(stack);\n",
    "    pop(stack);\n",
    "    cout << \"Stack Content After Popping :\" << endl;\n",
    "    show(stack);\n",
    "return 0;\n",
    "}"
   ]
  },
  {
   "cell_type": "code",
   "execution_count": 9,
   "metadata": {},
   "outputs": [
    {
     "name": "stdout",
     "output_type": "stream",
     "text": [
      "isEmpty(stack): 1\n",
      "Stack Content After Pushing :\n",
      "5 4 3 2 1 \n",
      "isEmpty(stack): 0\n",
      "Stack Content After Popping :\n",
      "2 1 "
     ]
    }
   ],
   "source": [
    "__main ();"
   ]
  }
 ],
 "metadata": {
  "kernelspec": {
   "display_name": "C++14",
   "language": "C++14",
   "name": "xcpp14"
  },
  "language_info": {
   "codemirror_mode": "text/x-c++src",
   "file_extension": ".cpp",
   "mimetype": "text/x-c++src",
   "name": "c++",
   "version": "14"
  }
 },
 "nbformat": 4,
 "nbformat_minor": 4
}
