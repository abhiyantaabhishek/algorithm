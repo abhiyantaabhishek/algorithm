{
 "cells": [
  {
   "cell_type": "markdown",
   "metadata": {},
   "source": [
    "# Insertion sort\n",
    "Click on [here](https://notebooks.gesis.org/user/abhiyantaabhishek1@yahoo.in/notebooks/Insertion_sort.ipynb) to run this code live in jupyetr notebook."
   ]
  },
  {
   "cell_type": "code",
   "execution_count": 9,
   "metadata": {},
   "outputs": [],
   "source": [
    "#include <vector>\n",
    "#include <iostream>\n",
    "using namespace std;"
   ]
  },
  {
   "cell_type": "code",
   "execution_count": 3,
   "metadata": {},
   "outputs": [],
   "source": [
    "template<class T>\n",
    "void insersionSort(T A)\n",
    "{\n",
    "\tint j ;\n",
    "\tint i ;\n",
    "\tfor (j = 1; j < A.size(); j++)\n",
    "\t{\n",
    "\t\tint key = A[j];\n",
    "\t\ti = j - 1;\n",
    "\t\twhile ( i >= 0)\n",
    "\t\t{\n",
    "\t\t\tif (key<A[i])\n",
    "\t\t\t{\n",
    "\t\t\t\tA[i+1] = A[i];\n",
    "\t\t\t}\n",
    "\t\t\telse\n",
    "\t\t\t{\n",
    "\t\t\t\t\n",
    "\t\t\t\tbreak;\n",
    "\t\t\t}\n",
    "\t\t\ti = i - 1;\n",
    "\t\t}\n",
    "\t\tA[i+1] = key;\n",
    "\t}\n",
    "\tfor (i = 0; i < A.size(); i++)\n",
    "\t\tcout << A[i] << ' ';\n",
    "\n",
    "}\n"
   ]
  },
  {
   "cell_type": "code",
   "execution_count": 7,
   "metadata": {},
   "outputs": [],
   "source": [
    "int main_()\n",
    "{\n",
    "\tvector<int> vect({5,1,2,3,4,5});\n",
    "\tinsersionSort<vector<int>>(vect);\n",
    "\t\n",
    "\treturn 0;\n",
    "}"
   ]
  },
  {
   "cell_type": "code",
   "execution_count": 8,
   "metadata": {},
   "outputs": [
    {
     "name": "stdout",
     "output_type": "stream",
     "text": [
      "1 2 3 4 5 5 "
     ]
    },
    {
     "data": {
      "text/plain": [
       "0"
      ]
     },
     "execution_count": 8,
     "metadata": {},
     "output_type": "execute_result"
    }
   ],
   "source": [
    "main_()"
   ]
  }
 ],
 "metadata": {
  "kernelspec": {
   "display_name": "C++14",
   "language": "C++14",
   "name": "xcpp14"
  },
  "language_info": {
   "codemirror_mode": "text/x-c++src",
   "file_extension": ".cpp",
   "mimetype": "text/x-c++src",
   "name": "c++",
   "version": "14"
  }
 },
 "nbformat": 4,
 "nbformat_minor": 4
}
