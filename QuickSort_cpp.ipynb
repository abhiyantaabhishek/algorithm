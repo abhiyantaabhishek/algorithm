{
 "cells": [
  {
   "cell_type": "markdown",
   "metadata": {},
   "source": [
    "[**ctrl + Click here**](https://mybinder.org/v2/gh/abhiyantaabhishek/algorithm/master?filepath=QuickSort_cpp.ipynb) to run this code live in the Jupyetr Notebook. _Please don't click if you are already there in the Jupyter Notebook as it will create a new kernel._"
   ]
  },
  {
   "cell_type": "code",
   "execution_count": 1,
   "metadata": {},
   "outputs": [],
   "source": [
    "#include <vector>\n",
    "#include <iostream>\n",
    "using namespace std;"
   ]
  },
  {
   "cell_type": "code",
   "execution_count": 2,
   "metadata": {},
   "outputs": [],
   "source": [
    "template<class T>\n",
    "void show(T A)\n",
    "{\n",
    "    /*for (T::iterator it = A.begin(); it != A.end(); ++it)\n",
    "    {\n",
    "    cout << *it << ' ';\n",
    "    }*/\n",
    "    for (auto const& value : A)\n",
    "    {\n",
    "        cout << value << ' ';\n",
    "    }\n",
    "    cout << \"\\n\";\n",
    "}"
   ]
  },
  {
   "cell_type": "code",
   "execution_count": 3,
   "metadata": {},
   "outputs": [],
   "source": [
    "template <class T>\n",
    "int partition(T& A,int p,int r)\n",
    "{\n",
    "    int i = p - 1;\n",
    "    int j = p;\n",
    "    int pivot = A[r];\n",
    "    while (j < r)\n",
    "    {\n",
    "        if (A[j] <= pivot)\n",
    "        {\n",
    "            int temp = A[j];\n",
    "            \n",
    "            A[j] = A[i + 1];\n",
    "            A[i + 1] = temp;\n",
    "            i = i + 1;\n",
    "        }\n",
    "        j = j + 1;\n",
    "    }\n",
    "    int temp = A[r];\n",
    "\n",
    "    A[r] = A[i + 1];\n",
    "    A[i + 1] = temp;\n",
    "    i = i + 1;\n",
    "    return i;\n",
    "}"
   ]
  },
  {
   "cell_type": "code",
   "execution_count": 4,
   "metadata": {},
   "outputs": [],
   "source": [
    "template <class T>\n",
    "void quickSort(T& A,int p , int r)\n",
    "{\n",
    "    if (p < r)\n",
    "    {\n",
    "        int q = partition(A, p, r);\n",
    "        quickSort(A, p, q - 1);\n",
    "        quickSort(A, q + 1, r);\n",
    "    }\n",
    "}"
   ]
  },
  {
   "cell_type": "code",
   "execution_count": 5,
   "metadata": {},
   "outputs": [],
   "source": [
    "int __main()\n",
    "{\n",
    "    vector<int> vect({9,6,5,0,8,2,4,7});\n",
    "    quickSort(vect, 0, 7);\n",
    "    show(vect);\n",
    "    return 0;\n",
    "}"
   ]
  },
  {
   "cell_type": "code",
   "execution_count": 6,
   "metadata": {},
   "outputs": [
    {
     "name": "stdout",
     "output_type": "stream",
     "text": [
      "0 2 4 5 6 7 8 9 \n"
     ]
    },
    {
     "data": {
      "text/plain": [
       "0"
      ]
     },
     "execution_count": 6,
     "metadata": {},
     "output_type": "execute_result"
    }
   ],
   "source": [
    "__main()"
   ]
  }
 ],
 "metadata": {
  "kernelspec": {
   "display_name": "C++14",
   "language": "C++14",
   "name": "xcpp14"
  },
  "language_info": {
   "codemirror_mode": "text/x-c++src",
   "file_extension": ".cpp",
   "mimetype": "text/x-c++src",
   "name": "c++",
   "version": "14"
  }
 },
 "nbformat": 4,
 "nbformat_minor": 4
}
