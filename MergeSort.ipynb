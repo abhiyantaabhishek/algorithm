{
 "cells": [
  {
   "cell_type": "markdown",
   "metadata": {},
   "source": [
    "Click  [here](https://mybinder.org/v2/gh/abhiyantaabhishek/algorithm/master?filepath=MergeSort.ipynb) to run this code live in jupyetr notebook."
   ]
  },
  {
   "cell_type": "code",
   "execution_count": 1,
   "metadata": {},
   "outputs": [],
   "source": [
    "#include <iostream>\n",
    "using namespace std;"
   ]
  },
  {
   "cell_type": "code",
   "execution_count": 2,
   "metadata": {},
   "outputs": [],
   "source": [
    "template<class T>\n",
    "void show(T A)\n",
    "{\n",
    "    /*for (T::iterator it = A.begin(); it != A.end(); ++it)\n",
    "    {\n",
    "        cout << *it << ' ';\n",
    "    }*/ // Alternative to below loop\n",
    "    for (auto const& value : A)\n",
    "    {\n",
    "        cout << value << ' ';\n",
    "    }\n",
    "    cout << \"\\n\";\n",
    "}"
   ]
  },
  {
   "cell_type": "code",
   "execution_count": 3,
   "metadata": {},
   "outputs": [],
   "source": [
    "template<class T>\n",
    "void merge(T& A,int p,int q,int r)\n",
    "{\n",
    "    T L;\n",
    "    T R;\n",
    "    for (int i = p; i <= q; i++)\n",
    "    {\n",
    "        L.push_back(A[i]);\n",
    "    }\n",
    "    for (int i = q + 1; i <=r; i++)\n",
    "    {\n",
    "        R.push_back(A[i]);\n",
    "    }\n",
    "    \n",
    "    int i = 0;\n",
    "    int j = 0;\n",
    "    int k = p;\n",
    "    while (i < L.size() || j < R.size())\n",
    "    {\n",
    "        if ((j >= R.size()) || (i < L.size() && L[i] <= R[j]))\n",
    "        {\n",
    "            A[k] = L[i];\n",
    "                i++;\n",
    "                k++;\n",
    "        }\n",
    "        else if ((i >= L.size()) || (j < R.size() && L[i] > R[j]))\n",
    "        {\n",
    "            A[k] = R[j];\n",
    "                j++;\n",
    "                k++;\n",
    "        }\n",
    "\n",
    "    }\n",
    "\n",
    "}"
   ]
  },
  {
   "cell_type": "code",
   "execution_count": 4,
   "metadata": {},
   "outputs": [],
   "source": [
    "template<class T>\n",
    "void merge_sort(T& A,int p,int r)\n",
    "{\n",
    "    if (p < r)\n",
    "    {\n",
    "        int q = (p + r) / 2;\n",
    "        merge_sort(A, p, q);\n",
    "        merge_sort(A, q + 1, r);\n",
    "        merge(A, p, q, r);\n",
    "        \n",
    "    }\n",
    "    \n",
    "}"
   ]
  },
  {
   "cell_type": "code",
   "execution_count": 5,
   "metadata": {},
   "outputs": [],
   "source": [
    "int __main()\n",
    "{\n",
    "    vector<int> vect({0,6,8,3,4,5});\n",
    "    merge_sort(vect, 0, 5);\n",
    "    show(vect);\n",
    "    return 0;\n",
    "}"
   ]
  },
  {
   "cell_type": "code",
   "execution_count": 6,
   "metadata": {},
   "outputs": [
    {
     "name": "stdout",
     "output_type": "stream",
     "text": [
      "0 3 4 5 6 8 \n"
     ]
    },
    {
     "data": {
      "text/plain": [
       "0"
      ]
     },
     "execution_count": 6,
     "metadata": {},
     "output_type": "execute_result"
    }
   ],
   "source": [
    "__main()"
   ]
  }
 ],
 "metadata": {
  "kernelspec": {
   "display_name": "C++14",
   "language": "C++14",
   "name": "xcpp14"
  },
  "language_info": {
   "codemirror_mode": "text/x-c++src",
   "file_extension": ".cpp",
   "mimetype": "text/x-c++src",
   "name": "c++",
   "version": "14"
  }
 },
 "nbformat": 4,
 "nbformat_minor": 4
}
