{
 "cells": [
  {
   "cell_type": "markdown",
   "metadata": {},
   "source": [
    "# Circular  Queue Using Linked List\n",
    "[**ctrl + Click here**](https://mybinder.org/v2/gh/abhiyantaabhishek/algorithm/master?filepath=CircularQueueUsingLinkedList_cpp.ipynb) to run this code live in the Jupyetr Notebook. _Please don't click if you are already there in the Jupyter Notebook as it will create a new kernel._"
   ]
  },
  {
   "cell_type": "code",
   "execution_count": 1,
   "metadata": {},
   "outputs": [],
   "source": [
    "#include <iostream>\n",
    "#include <assert.h> \n",
    "using namespace std;"
   ]
  },
  {
   "cell_type": "code",
   "execution_count": 2,
   "metadata": {},
   "outputs": [],
   "source": [
    "template <class T>\n",
    "struct node\n",
    "{\n",
    "    T data;\n",
    "    struct node<T> *next;\n",
    "};"
   ]
  },
  {
   "cell_type": "code",
   "execution_count": 3,
   "metadata": {},
   "outputs": [],
   "source": [
    "template <class T>\n",
    "class CircularQueue\n",
    "{\n",
    "public:\n",
    "    struct node<T> * front;\n",
    "    struct node<T> * rear;\n",
    "    CircularQueue()\n",
    "    {\n",
    "        front = NULL;\n",
    "        rear = NULL;\n",
    "    }\n",
    "\n",
    "    void enQueue(T data);\n",
    "    void deQueue();\n",
    "    void display();\n",
    "\n",
    "};"
   ]
  },
  {
   "cell_type": "code",
   "execution_count": 4,
   "metadata": {},
   "outputs": [],
   "source": [
    "template<class T>\n",
    "void CircularQueue<T>::enQueue(T data)\n",
    "{\n",
    "    struct node<T> * newNode = new node < T > ;\n",
    "    newNode->data = data;\n",
    "    if (rear == NULL)\n",
    "    {\n",
    "        newNode->next = newNode;\n",
    "        front = rear = newNode;\n",
    "    }\n",
    "    else\n",
    "    {\n",
    "        rear->next = newNode;\n",
    "        rear = newNode;\n",
    "        rear->next = front;\n",
    "    }\n",
    "    cout << \"\\nenQueued: \" << data;\n",
    "}"
   ]
  },
  {
   "cell_type": "code",
   "execution_count": 5,
   "metadata": {},
   "outputs": [],
   "source": [
    "template<class T>\n",
    "void CircularQueue<T> ::deQueue()\n",
    "{\n",
    "    struct node<T> * deQueuedNode = front;\n",
    "    if (front == NULL)\n",
    "    {\n",
    "        cout << \"\\nCan't deQueue from empty Queue\";\n",
    "    }\n",
    "    else if (front == rear)\n",
    "    {\n",
    "        front = NULL;\n",
    "        rear = NULL;\n",
    "        cout << \"\\ndeQueued: \" << deQueuedNode->data;\n",
    "        delete deQueuedNode;\n",
    "    }\n",
    "    else\n",
    "    {\n",
    "        front = front->next;\n",
    "        rear->next = front;\n",
    "        cout << \"\\ndeQueued: \" << deQueuedNode->data;\n",
    "        delete deQueuedNode;\n",
    "\n",
    "    }\n",
    "\n",
    "}"
   ]
  },
  {
   "cell_type": "code",
   "execution_count": 6,
   "metadata": {},
   "outputs": [],
   "source": [
    "int __main()\n",
    "{\n",
    "    CircularQueue<int> CircularQueue;\n",
    "    cout<<\"--------------\\nEnQueue:\";\n",
    "    CircularQueue.enQueue(2);\n",
    "    CircularQueue.enQueue(3);\n",
    "    CircularQueue.enQueue(4);\n",
    "    cout<<\"\\n--------------\\nDeQueue:\";\n",
    "    CircularQueue.deQueue();\n",
    "    CircularQueue.deQueue();\n",
    "    CircularQueue.deQueue();\n",
    "    cout<<\"\\n--------------\";\n",
    "    CircularQueue.deQueue(); // can not deQueue as Queue is empty now \n",
    "    return 0;\n",
    "}\n"
   ]
  },
  {
   "cell_type": "code",
   "execution_count": 7,
   "metadata": {},
   "outputs": [
    {
     "name": "stdout",
     "output_type": "stream",
     "text": [
      "--------------\n",
      "EnQueue:\n",
      "enQueued: 2\n",
      "enQueued: 3\n",
      "enQueued: 4\n",
      "--------------\n",
      "DeQueue:\n",
      "deQueued: 2\n",
      "deQueued: 3\n",
      "deQueued: 4\n",
      "--------------\n",
      "Can't deQueue from empty Queue"
     ]
    }
   ],
   "source": [
    "__main();"
   ]
  }
 ],
 "metadata": {
  "kernelspec": {
   "display_name": "C++14",
   "language": "C++14",
   "name": "xcpp14"
  },
  "language_info": {
   "codemirror_mode": "text/x-c++src",
   "file_extension": ".cpp",
   "mimetype": "text/x-c++src",
   "name": "c++",
   "version": "14"
  }
 },
 "nbformat": 4,
 "nbformat_minor": 4
}
