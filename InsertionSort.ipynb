{
 "cells": [
  {
   "cell_type": "markdown",
   "metadata": {},
   "source": [
    "# Insertion sort\n",
    " Click  [here](https://mybinder.org/v2/gh/abhiyantaabhishek/algorithm/master?filepath=InsertionSort.ipynb) to run this code live in jupyetr notebook. _Please don't click if you are already there in the Jupyter notebook as it will create a new kernel._"
   ]
  },
  {
   "cell_type": "code",
   "execution_count": 1,
   "metadata": {},
   "outputs": [],
   "source": [
    "#include <vector>\n",
    "#include <iostream>\n",
    "using namespace std;"
   ]
  },
  {
   "cell_type": "code",
   "execution_count": 2,
   "metadata": {},
   "outputs": [],
   "source": [
    "template<class T>\n",
    "void insersionSort(T A)\n",
    "{\n",
    "    int j ;\n",
    "    int i ;\n",
    "    for (j = 1; j < A.size(); j++)\n",
    "    {\n",
    "        int key = A[j];\n",
    "        i = j - 1;\n",
    "        while ( i >= 0)\n",
    "        {\n",
    "            if (key<A[i])\n",
    "            {\n",
    "                A[i+1] = A[i];\n",
    "            }\n",
    "            else\n",
    "            {\n",
    "                \n",
    "                break;\n",
    "            }\n",
    "            i = i - 1;\n",
    "        }\n",
    "        A[i+1] = key;\n",
    "    }\n",
    "    for (i = 0; i < A.size(); i++)\n",
    "        cout << A[i] << ' ';\n",
    "\n",
    "}"
   ]
  },
  {
   "cell_type": "code",
   "execution_count": 4,
   "metadata": {},
   "outputs": [],
   "source": [
    "int __main()\n",
    "{\n",
    "    vector<int> vect({5,1,2,3,4,5});\n",
    "    insersionSort<vector<int>>(vect);\n",
    "    return 0;\n",
    "}"
   ]
  },
  {
   "cell_type": "code",
   "execution_count": 5,
   "metadata": {},
   "outputs": [
    {
     "name": "stdout",
     "output_type": "stream",
     "text": [
      "1 2 3 4 5 5 "
     ]
    },
    {
     "data": {
      "text/plain": [
       "0"
      ]
     },
     "execution_count": 5,
     "metadata": {},
     "output_type": "execute_result"
    }
   ],
   "source": [
    "__main()"
   ]
  }
 ],
 "metadata": {
  "kernelspec": {
   "display_name": "C++14",
   "language": "C++14",
   "name": "xcpp14"
  },
  "language_info": {
   "codemirror_mode": "text/x-c++src",
   "file_extension": ".cpp",
   "mimetype": "text/x-c++src",
   "name": "c++",
   "version": "14"
  }
 },
 "nbformat": 4,
 "nbformat_minor": 4
}
